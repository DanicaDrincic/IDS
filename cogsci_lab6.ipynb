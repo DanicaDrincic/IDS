{
 "cells": [
  {
   "cell_type": "markdown",
   "metadata": {},
   "source": [
    "# Laboratory exercise 6\n",
    "\n",
    "The notebook contains exercises connected to auditory exercise 7. For any questions feel free to contact assistant: eda.jovicic@fer.hr"
   ]
  },
  {
   "cell_type": "markdown",
   "metadata": {},
   "source": [
    "The main task of this notebook is to make predictions using supported learning with the Scikit Learn library. The goal is to predict the grade in Math considering other features of the student."
   ]
  },
  {
   "cell_type": "code",
   "execution_count": 20,
   "metadata": {},
   "outputs": [],
   "source": [
    "import pandas as pd\n",
    "import numpy as np\n",
    "import matplotlib.pyplot as plt\n",
    "from sklearn.ensemble import RandomForestClassifier\n",
    "from sklearn.metrics import accuracy_score, f1_score\n",
    "from sklearn.model_selection import train_test_split\n",
    "from sklearn.metrics import confusion_matrix, ConfusionMatrixDisplay\n",
    "from sklearn.linear_model import LinearRegression, LogisticRegression, Ridge\n",
    "from sklearn.neighbors import KNeighborsClassifier\n",
    "from sklearn.model_selection import cross_val_predict, train_test_split\n",
    "from sklearn.metrics import mean_squared_error, auc, roc_curve, classification_report\n"
   ]
  },
  {
   "cell_type": "markdown",
   "metadata": {},
   "source": [
    "1. Load the cleaned dataset from the first exercise. If you haven't saved the dataset, rerun the exercise and save the final dataset."
   ]
  },
  {
   "cell_type": "code",
   "execution_count": 12,
   "metadata": {},
   "outputs": [
    {
     "data": {
      "text/html": [
       "<div>\n",
       "<style scoped>\n",
       "    .dataframe tbody tr th:only-of-type {\n",
       "        vertical-align: middle;\n",
       "    }\n",
       "\n",
       "    .dataframe tbody tr th {\n",
       "        vertical-align: top;\n",
       "    }\n",
       "\n",
       "    .dataframe thead th {\n",
       "        text-align: right;\n",
       "    }\n",
       "</style>\n",
       "<table border=\"1\" class=\"dataframe\">\n",
       "  <thead>\n",
       "    <tr style=\"text-align: right;\">\n",
       "      <th></th>\n",
       "      <th>EthnicGroup</th>\n",
       "      <th>ParentEduc</th>\n",
       "      <th>TestPrep</th>\n",
       "      <th>ParentMaritalStatus</th>\n",
       "      <th>PracticeSport</th>\n",
       "      <th>IsFirstChild</th>\n",
       "      <th>TransportMeans</th>\n",
       "      <th>WklyStudyHours</th>\n",
       "      <th>StudentId</th>\n",
       "      <th>NrSiblings</th>\n",
       "      <th>MathScore</th>\n",
       "      <th>ReadingScore</th>\n",
       "      <th>WritingScore</th>\n",
       "      <th>GenderE</th>\n",
       "      <th>LunchTypeE</th>\n",
       "    </tr>\n",
       "  </thead>\n",
       "  <tbody>\n",
       "    <tr>\n",
       "      <th>0</th>\n",
       "      <td>2.0</td>\n",
       "      <td>1.0</td>\n",
       "      <td>1.0</td>\n",
       "      <td>1.0</td>\n",
       "      <td>1.0</td>\n",
       "      <td>1.0</td>\n",
       "      <td>1.0</td>\n",
       "      <td>1.0</td>\n",
       "      <td>520645.0</td>\n",
       "      <td>3.0</td>\n",
       "      <td>71.0</td>\n",
       "      <td>71.0</td>\n",
       "      <td>74.0</td>\n",
       "      <td>1.0</td>\n",
       "      <td>1.0</td>\n",
       "    </tr>\n",
       "    <tr>\n",
       "      <th>1</th>\n",
       "      <td>2.0</td>\n",
       "      <td>5.0</td>\n",
       "      <td>1.0</td>\n",
       "      <td>1.0</td>\n",
       "      <td>2.0</td>\n",
       "      <td>1.0</td>\n",
       "      <td>2.0</td>\n",
       "      <td>0.0</td>\n",
       "      <td>303683.0</td>\n",
       "      <td>0.0</td>\n",
       "      <td>69.0</td>\n",
       "      <td>90.0</td>\n",
       "      <td>88.0</td>\n",
       "      <td>1.0</td>\n",
       "      <td>1.0</td>\n",
       "    </tr>\n",
       "    <tr>\n",
       "      <th>2</th>\n",
       "      <td>1.0</td>\n",
       "      <td>3.0</td>\n",
       "      <td>1.0</td>\n",
       "      <td>2.0</td>\n",
       "      <td>2.0</td>\n",
       "      <td>1.0</td>\n",
       "      <td>1.0</td>\n",
       "      <td>1.0</td>\n",
       "      <td>457351.0</td>\n",
       "      <td>4.0</td>\n",
       "      <td>87.0</td>\n",
       "      <td>93.0</td>\n",
       "      <td>91.0</td>\n",
       "      <td>1.0</td>\n",
       "      <td>1.0</td>\n",
       "    </tr>\n",
       "    <tr>\n",
       "      <th>3</th>\n",
       "      <td>0.0</td>\n",
       "      <td>0.0</td>\n",
       "      <td>1.0</td>\n",
       "      <td>1.0</td>\n",
       "      <td>0.0</td>\n",
       "      <td>0.0</td>\n",
       "      <td>2.0</td>\n",
       "      <td>0.0</td>\n",
       "      <td>812988.0</td>\n",
       "      <td>1.0</td>\n",
       "      <td>45.0</td>\n",
       "      <td>56.0</td>\n",
       "      <td>42.0</td>\n",
       "      <td>1.0</td>\n",
       "      <td>1.0</td>\n",
       "    </tr>\n",
       "    <tr>\n",
       "      <th>4</th>\n",
       "      <td>2.0</td>\n",
       "      <td>5.0</td>\n",
       "      <td>1.0</td>\n",
       "      <td>1.0</td>\n",
       "      <td>2.0</td>\n",
       "      <td>1.0</td>\n",
       "      <td>1.0</td>\n",
       "      <td>0.0</td>\n",
       "      <td>594678.0</td>\n",
       "      <td>0.0</td>\n",
       "      <td>76.0</td>\n",
       "      <td>78.0</td>\n",
       "      <td>75.0</td>\n",
       "      <td>1.0</td>\n",
       "      <td>1.0</td>\n",
       "    </tr>\n",
       "    <tr>\n",
       "      <th>...</th>\n",
       "      <td>...</td>\n",
       "      <td>...</td>\n",
       "      <td>...</td>\n",
       "      <td>...</td>\n",
       "      <td>...</td>\n",
       "      <td>...</td>\n",
       "      <td>...</td>\n",
       "      <td>...</td>\n",
       "      <td>...</td>\n",
       "      <td>...</td>\n",
       "      <td>...</td>\n",
       "      <td>...</td>\n",
       "      <td>...</td>\n",
       "      <td>...</td>\n",
       "      <td>...</td>\n",
       "    </tr>\n",
       "    <tr>\n",
       "      <th>29112</th>\n",
       "      <td>3.0</td>\n",
       "      <td>2.0</td>\n",
       "      <td>1.0</td>\n",
       "      <td>2.0</td>\n",
       "      <td>2.0</td>\n",
       "      <td>0.0</td>\n",
       "      <td>1.0</td>\n",
       "      <td>0.0</td>\n",
       "      <td>611241.0</td>\n",
       "      <td>2.0</td>\n",
       "      <td>59.0</td>\n",
       "      <td>61.0</td>\n",
       "      <td>65.0</td>\n",
       "      <td>1.0</td>\n",
       "      <td>1.0</td>\n",
       "    </tr>\n",
       "    <tr>\n",
       "      <th>29113</th>\n",
       "      <td>4.0</td>\n",
       "      <td>2.0</td>\n",
       "      <td>1.0</td>\n",
       "      <td>2.0</td>\n",
       "      <td>1.0</td>\n",
       "      <td>0.0</td>\n",
       "      <td>0.0</td>\n",
       "      <td>0.0</td>\n",
       "      <td>299810.0</td>\n",
       "      <td>1.0</td>\n",
       "      <td>58.0</td>\n",
       "      <td>53.0</td>\n",
       "      <td>51.0</td>\n",
       "      <td>1.0</td>\n",
       "      <td>1.0</td>\n",
       "    </tr>\n",
       "    <tr>\n",
       "      <th>29114</th>\n",
       "      <td>2.0</td>\n",
       "      <td>2.0</td>\n",
       "      <td>0.0</td>\n",
       "      <td>1.0</td>\n",
       "      <td>2.0</td>\n",
       "      <td>0.0</td>\n",
       "      <td>0.0</td>\n",
       "      <td>0.0</td>\n",
       "      <td>941589.0</td>\n",
       "      <td>1.0</td>\n",
       "      <td>61.0</td>\n",
       "      <td>70.0</td>\n",
       "      <td>67.0</td>\n",
       "      <td>1.0</td>\n",
       "      <td>1.0</td>\n",
       "    </tr>\n",
       "    <tr>\n",
       "      <th>29115</th>\n",
       "      <td>3.0</td>\n",
       "      <td>0.0</td>\n",
       "      <td>0.0</td>\n",
       "      <td>1.0</td>\n",
       "      <td>1.0</td>\n",
       "      <td>0.0</td>\n",
       "      <td>1.0</td>\n",
       "      <td>0.0</td>\n",
       "      <td>867225.0</td>\n",
       "      <td>3.0</td>\n",
       "      <td>82.0</td>\n",
       "      <td>90.0</td>\n",
       "      <td>93.0</td>\n",
       "      <td>1.0</td>\n",
       "      <td>1.0</td>\n",
       "    </tr>\n",
       "    <tr>\n",
       "      <th>29116</th>\n",
       "      <td>1.0</td>\n",
       "      <td>5.0</td>\n",
       "      <td>1.0</td>\n",
       "      <td>1.0</td>\n",
       "      <td>0.0</td>\n",
       "      <td>0.0</td>\n",
       "      <td>1.0</td>\n",
       "      <td>0.0</td>\n",
       "      <td>649362.0</td>\n",
       "      <td>1.0</td>\n",
       "      <td>64.0</td>\n",
       "      <td>60.0</td>\n",
       "      <td>58.0</td>\n",
       "      <td>1.0</td>\n",
       "      <td>1.0</td>\n",
       "    </tr>\n",
       "  </tbody>\n",
       "</table>\n",
       "<p>29117 rows × 15 columns</p>\n",
       "</div>"
      ],
      "text/plain": [
       "       EthnicGroup  ParentEduc  TestPrep  ParentMaritalStatus  PracticeSport  \\\n",
       "0              2.0         1.0       1.0                  1.0            1.0   \n",
       "1              2.0         5.0       1.0                  1.0            2.0   \n",
       "2              1.0         3.0       1.0                  2.0            2.0   \n",
       "3              0.0         0.0       1.0                  1.0            0.0   \n",
       "4              2.0         5.0       1.0                  1.0            2.0   \n",
       "...            ...         ...       ...                  ...            ...   \n",
       "29112          3.0         2.0       1.0                  2.0            2.0   \n",
       "29113          4.0         2.0       1.0                  2.0            1.0   \n",
       "29114          2.0         2.0       0.0                  1.0            2.0   \n",
       "29115          3.0         0.0       0.0                  1.0            1.0   \n",
       "29116          1.0         5.0       1.0                  1.0            0.0   \n",
       "\n",
       "       IsFirstChild  TransportMeans  WklyStudyHours  StudentId  NrSiblings  \\\n",
       "0               1.0             1.0             1.0   520645.0         3.0   \n",
       "1               1.0             2.0             0.0   303683.0         0.0   \n",
       "2               1.0             1.0             1.0   457351.0         4.0   \n",
       "3               0.0             2.0             0.0   812988.0         1.0   \n",
       "4               1.0             1.0             0.0   594678.0         0.0   \n",
       "...             ...             ...             ...        ...         ...   \n",
       "29112           0.0             1.0             0.0   611241.0         2.0   \n",
       "29113           0.0             0.0             0.0   299810.0         1.0   \n",
       "29114           0.0             0.0             0.0   941589.0         1.0   \n",
       "29115           0.0             1.0             0.0   867225.0         3.0   \n",
       "29116           0.0             1.0             0.0   649362.0         1.0   \n",
       "\n",
       "       MathScore  ReadingScore  WritingScore  GenderE  LunchTypeE  \n",
       "0           71.0          71.0          74.0      1.0         1.0  \n",
       "1           69.0          90.0          88.0      1.0         1.0  \n",
       "2           87.0          93.0          91.0      1.0         1.0  \n",
       "3           45.0          56.0          42.0      1.0         1.0  \n",
       "4           76.0          78.0          75.0      1.0         1.0  \n",
       "...          ...           ...           ...      ...         ...  \n",
       "29112       59.0          61.0          65.0      1.0         1.0  \n",
       "29113       58.0          53.0          51.0      1.0         1.0  \n",
       "29114       61.0          70.0          67.0      1.0         1.0  \n",
       "29115       82.0          90.0          93.0      1.0         1.0  \n",
       "29116       64.0          60.0          58.0      1.0         1.0  \n",
       "\n",
       "[29117 rows x 15 columns]"
      ]
     },
     "execution_count": 12,
     "metadata": {},
     "output_type": "execute_result"
    }
   ],
   "source": [
    "#solution\n",
    "cd = pd.read_csv('cleaned_data.csv')\n",
    "cd\n"
   ]
  },
  {
   "cell_type": "markdown",
   "metadata": {},
   "source": [
    "2. Transform the MathScore feature into grades (1-5) using the following scoring system:\n",
    "\n",
    "|   MathScore |  Grade  |\n",
    "| ----------- | ------- |\n",
    "|  88 - 100   |    5    |\n",
    "|  75 - 87    |    4    |\n",
    "|  63 - 74    |    3    |\n",
    "|  50 - 62    |    2    |\n",
    "|   0 - 49    |    1    |"
   ]
  },
  {
   "cell_type": "code",
   "execution_count": 13,
   "metadata": {},
   "outputs": [
    {
     "name": "stdout",
     "output_type": "stream",
     "text": [
      "0    3\n",
      "1    3\n",
      "2    4\n",
      "3    1\n",
      "4    4\n",
      "Name: MathScoreGrade, dtype: category\n",
      "Categories (5, int64): [1 < 2 < 3 < 4 < 5]\n"
     ]
    }
   ],
   "source": [
    "#solution\n",
    "bins = [-1, 49, 62, 74, 87, 100]\n",
    "labels = [1, 2, 3, 4, 5]\n",
    "\n",
    "cd['MathScoreGrade'] = pd.cut(cd['MathScore'], bins=bins, labels=labels, include_lowest=True)\n",
    "\n",
    "print(cd['MathScoreGrade'].head())"
   ]
  },
  {
   "cell_type": "markdown",
   "metadata": {},
   "source": [
    "3. Divide the dataset into features (X) and predictions (y). For features we will use all the columns except MathScore, ReadingScore and WritingScore. For predictions we will use the MathScore column. Split the dataset into training and testing sets. The split should be done in a  70-30% ratio."
   ]
  },
  {
   "cell_type": "code",
   "execution_count": 19,
   "metadata": {},
   "outputs": [],
   "source": [
    "#X (all features except MathScore, ReadingScore, WritingScore) and y (MathScore)\n",
    "feature_cols = ['EthnicGroup', 'ParentEduc', 'TestPrep', 'ParentMaritalStatus', 'IsFirstChild', 'TransportMeans', 'WklyStudyHours', 'NrSiblings', 'GenderE', 'LunchTypeE']\n",
    "X = cd[feature_cols]\n",
    "y = cd.MathScoreGrade\n"
   ]
  },
  {
   "cell_type": "code",
   "execution_count": 18,
   "metadata": {},
   "outputs": [
    {
     "name": "stderr",
     "output_type": "stream",
     "text": [
      "C:\\Users\\drinc\\AppData\\Local\\anaconda3\\Lib\\site-packages\\sklearn\\linear_model\\_logistic.py:460: ConvergenceWarning: lbfgs failed to converge (status=1):\n",
      "STOP: TOTAL NO. of ITERATIONS REACHED LIMIT.\n",
      "\n",
      "Increase the number of iterations (max_iter) or scale the data as shown in:\n",
      "    https://scikit-learn.org/stable/modules/preprocessing.html\n",
      "Please also refer to the documentation for alternative solver options:\n",
      "    https://scikit-learn.org/stable/modules/linear_model.html#logistic-regression\n",
      "  n_iter_i = _check_optimize_result(\n"
     ]
    }
   ],
   "source": [
    "#splitting the dataset into train and test\n",
    "X_train, X_test, y_train, y_test = train_test_split(X, y, test_size=0.30, random_state=42)\n",
    "\n",
    "logistic = LogisticRegression()\n",
    "logistic = logistic.fit(X_train, y_train)\n",
    "\n",
    "y_pred=logistic.predict(X_test)"
   ]
  },
  {
   "cell_type": "code",
   "execution_count": 23,
   "metadata": {},
   "outputs": [
    {
     "data": {
      "text/plain": [
       "EthnicGroup            0\n",
       "ParentEduc             0\n",
       "TestPrep               0\n",
       "ParentMaritalStatus    0\n",
       "IsFirstChild           0\n",
       "TransportMeans         0\n",
       "WklyStudyHours         0\n",
       "NrSiblings             0\n",
       "GenderE                0\n",
       "LunchTypeE             0\n",
       "dtype: int64"
      ]
     },
     "execution_count": 23,
     "metadata": {},
     "output_type": "execute_result"
    }
   ],
   "source": [
    "X.isna().sum(axis=0)"
   ]
  },
  {
   "cell_type": "markdown",
   "metadata": {},
   "source": [
    "4. Create a Random Forest model, with max_depth=5 and n_estimators=20. Train the model using training set, and then test it on testing set. Display the confusion matrix. Show precision, recall and F1 score for all grades. "
   ]
  },
  {
   "cell_type": "code",
   "execution_count": 27,
   "metadata": {},
   "outputs": [
    {
     "data": {
      "image/png": "[encoded data removed]",
      "text/plain": [
       "<Figure size 1000x600 with 1 Axes>"
      ]
     },
     "metadata": {},
     "output_type": "display_data"
    },
    {
     "name": "stdout",
     "output_type": "stream",
     "text": [
      "Confusion Matrix:\n",
      "[[   0  236 3624  156    0]\n",
      " [   0  503 6325  565    0]\n",
      " [   0  537 7053  913    0]\n",
      " [   0  348 5105 1173    0]\n",
      " [   0  116 1709  754    0]]\n",
      "Classification Report:\n",
      "              precision    recall  f1-score   support\n",
      "\n",
      "           1       0.00      0.00      0.00      4016\n",
      "           2       0.29      0.07      0.11      7393\n",
      "           3       0.30      0.83      0.44      8503\n",
      "           4       0.33      0.18      0.23      6626\n",
      "           5       0.00      0.00      0.00      2579\n",
      "\n",
      "    accuracy                           0.30     29117\n",
      "   macro avg       0.18      0.21      0.16     29117\n",
      "weighted avg       0.23      0.30      0.21     29117\n",
      "\n"
     ]
    },
    {
     "name": "stderr",
     "output_type": "stream",
     "text": [
      "C:\\Users\\drinc\\AppData\\Local\\anaconda3\\Lib\\site-packages\\sklearn\\metrics\\_classification.py:1469: UndefinedMetricWarning: Precision and F-score are ill-defined and being set to 0.0 in labels with no predicted samples. Use `zero_division` parameter to control this behavior.\n",
      "  _warn_prf(average, modifier, msg_start, len(result))\n",
      "C:\\Users\\drinc\\AppData\\Local\\anaconda3\\Lib\\site-packages\\sklearn\\metrics\\_classification.py:1469: UndefinedMetricWarning: Precision and F-score are ill-defined and being set to 0.0 in labels with no predicted samples. Use `zero_division` parameter to control this behavior.\n",
      "  _warn_prf(average, modifier, msg_start, len(result))\n",
      "C:\\Users\\drinc\\AppData\\Local\\anaconda3\\Lib\\site-packages\\sklearn\\metrics\\_classification.py:1469: UndefinedMetricWarning: Precision and F-score are ill-defined and being set to 0.0 in labels with no predicted samples. Use `zero_division` parameter to control this behavior.\n",
      "  _warn_prf(average, modifier, msg_start, len(result))\n"
     ]
    }
   ],
   "source": [
    "number_trees = [n for n in range(1, 21)]\n",
    "accuracy_scores = []\n",
    "f1_scores = []\n",
    "\n",
    "for nt in number_trees:\n",
    "    clf = RandomForestClassifier(max_depth=5, random_state=0, n_estimators=20)\n",
    "    y_pred = cross_val_predict(clf, X, y, cv=5)\n",
    "\n",
    "    accuracy_scores.append(accuracy_score(y, y_pred))\n",
    "    f1_scores.append(f1_score(y, y_pred, average='weighted'))\n",
    "\n",
    "plt.figure(figsize=(10, 6))\n",
    "plt.plot(number_trees, accuracy_scores, label='Accuracy')\n",
    "plt.plot(number_trees, f1_scores, label='F1 Score (weighted)')\n",
    "plt.xlabel('Number of Trees')\n",
    "plt.ylabel('Score')\n",
    "plt.title('Random Forest Performance with Varying Number of Trees')\n",
    "plt.legend()\n",
    "plt.show()\n",
    "\n",
    "best_nt = number_trees[f1_scores.index(max(f1_scores))]\n",
    "\n",
    "best_clf = RandomForestClassifier(max_depth=5, random_state=0, n_estimators=best_nt)\n",
    "best_clf.fit(X, y)\n",
    "\n",
    "y_pred = best_clf.predict(X)\n",
    "\n",
    "conf_matrix = confusion_matrix(y, y_pred)\n",
    "print(\"Confusion Matrix:\")\n",
    "print(conf_matrix)\n",
    "\n",
    "classification_rep = classification_report(y, y_pred)\n",
    "print(\"Classification Report:\")\n",
    "print(classification_rep)"
   ]
  },
  {
   "cell_type": "markdown",
   "metadata": {},
   "source": [
    "5. The accuracy of our model is not the best. The reason could be having too many possible classes (grades). Let's transform the data again, but this time, instead of predicting grades, we want to predict whether the student will pass (grades 2, 3, 4 and 5) or fail (grade 1) math. After transforming the MathScore accordingly (0 - failed, 1 - passed), repeat task 4 and compare the results."
   ]
  },
  {
   "cell_type": "code",
   "execution_count": 29,
   "metadata": {},
   "outputs": [
    {
     "name": "stdout",
     "output_type": "stream",
     "text": [
      "       MathScore MathScoreResult\n",
      "0           71.0          passed\n",
      "1           69.0          passed\n",
      "2           87.0          passed\n",
      "3           45.0          failed\n",
      "4           76.0          passed\n",
      "...          ...             ...\n",
      "29112       59.0          passed\n",
      "29113       58.0          passed\n",
      "29114       61.0          passed\n",
      "29115       82.0          passed\n",
      "29116       64.0          passed\n",
      "\n",
      "[29117 rows x 2 columns]\n"
     ]
    }
   ],
   "source": [
    "#transform grades into failed (0) or passed (1)\n",
    "conditions = [\n",
    "    (cd['MathScore'] >= 0) & (cd['MathScore'] <= 49),  #failed\n",
    "    (cd['MathScore'] >= 50) & (cd['MathScore'] <= 100)  #passed\n",
    "]\n",
    "\n",
    "values = ['failed', 'passed']\n",
    "cd['MathScoreResult'] = np.select(conditions, values)\n",
    "\n",
    "print(cd[['MathScore', 'MathScoreResult']])"
   ]
  },
  {
   "cell_type": "code",
   "execution_count": 30,
   "metadata": {},
   "outputs": [
    {
     "data": {
      "image/png": "[encoded data removed]",
      "text/plain": [
       "<Figure size 1000x600 with 1 Axes>"
      ]
     },
     "metadata": {},
     "output_type": "display_data"
    },
    {
     "name": "stdout",
     "output_type": "stream",
     "text": [
      "Confusion Matrix:\n",
      "[[    5  4011]\n",
      " [   14 25087]]\n",
      "Classification Report:\n",
      "              precision    recall  f1-score   support\n",
      "\n",
      "      failed       0.26      0.00      0.00      4016\n",
      "      passed       0.86      1.00      0.93     25101\n",
      "\n",
      "    accuracy                           0.86     29117\n",
      "   macro avg       0.56      0.50      0.46     29117\n",
      "weighted avg       0.78      0.86      0.80     29117\n",
      "\n"
     ]
    }
   ],
   "source": [
    "#Random Forest model 2\n",
    "feature_cols = ['EthnicGroup', 'ParentEduc', 'TestPrep', 'ParentMaritalStatus', 'IsFirstChild', 'TransportMeans', 'WklyStudyHours', 'NrSiblings', 'GenderE', 'LunchTypeE']\n",
    "X = cd[feature_cols]\n",
    "y = cd.MathScoreResult\n",
    "\n",
    "X_train, X_test, y_train, y_test = train_test_split(X, y, test_size=0.30, random_state=42)\n",
    "logistic = LogisticRegression()\n",
    "logistic = logistic.fit(X_train, y_train)\n",
    "y_pred=logistic.predict(X_test)\n",
    "\n",
    "\n",
    "number_trees = [n for n in range(1, 21)]\n",
    "accuracy_scores = []\n",
    "f1_scores = []\n",
    "\n",
    "for nt in number_trees:\n",
    "    clf = RandomForestClassifier(max_depth=5, random_state=0, n_estimators=20)\n",
    "    y_pred = cross_val_predict(clf, X, y, cv=5)\n",
    "\n",
    "    accuracy_scores.append(accuracy_score(y, y_pred))\n",
    "    f1_scores.append(f1_score(y, y_pred, average='weighted'))\n",
    "\n",
    "plt.figure(figsize=(10, 6))\n",
    "plt.plot(number_trees, accuracy_scores, label='Accuracy')\n",
    "plt.plot(number_trees, f1_scores, label='F1 Score (weighted)')\n",
    "plt.xlabel('Number of Trees')\n",
    "plt.ylabel('Score')\n",
    "plt.title('Random Forest Performance with Varying Number of Trees')\n",
    "plt.legend()\n",
    "plt.show()\n",
    "\n",
    "best_nt = number_trees[f1_scores.index(max(f1_scores))]\n",
    "\n",
    "best_clf = RandomForestClassifier(max_depth=5, random_state=0, n_estimators=best_nt)\n",
    "best_clf.fit(X, y)\n",
    "\n",
    "y_pred = best_clf.predict(X)\n",
    "\n",
    "conf_matrix = confusion_matrix(y, y_pred)\n",
    "print(\"Confusion Matrix:\")\n",
    "print(conf_matrix)\n",
    "\n",
    "classification_rep = classification_report(y, y_pred)\n",
    "print(\"Classification Report:\")\n",
    "print(classification_rep)"
   ]
  },
  {
   "cell_type": "markdown",
   "metadata": {},
   "source": [
    "6. Compare the results. Did our model work better in the first case or the second? Explain why and suggest a way to improve it.\n",
    "Based on the results obtained from the analysis of two Random Forest models that differentiate the number of categories of the MathScore variable, we can observe that in the model with two categories (passed, failed), accuracy has significantly increased. This was expected, given that the second model is much more informative in the sense that it better meets the requirements of the confusion matrix.\n",
    "\n",
    "However, despite the increase in accuracy, something noteworthy in the second model is its low precision and recall, and consequently, the F1 score. This implies that the model does not perform well in predicting whether someone will score 1 on the test, i.e., fail. Assuming that the distribution of results in the sample roughly corresponds to a normal distribution, I do not believe that the solution to this problem lies in another sample with more people receiving an unsatisfactory grade. However, testing the model on various samples to verify this assumption would certainly be beneficial.\n",
    "\n",
    "What I am actually suggesting is oversampling the \"failed\" class, i.e., multiplying existing instances of the \"failed\" class to achieve a more balanced class ratio. Furthermore, considering that we have taken almost all variables from the database as predictors, I believe it would be good to explore their combination and select those that best predict MathScore, incorporating them into the model."
   ]
  },
  {
   "cell_type": "markdown",
   "metadata": {},
   "source": []
  }
 ],
 "metadata": {
  "interpreter": {
   "hash": "e7370f93d1d0cde622a1f8e1c04877d8463912d04d973331ad4851f04de6915a"
  },
  "kernelspec": {
   "display_name": "Python 3 (ipykernel)",
   "language": "python",
   "name": "python3"
  },
  "language_info": {
   "codemirror_mode": {
    "name": "ipython",
    "version": 3
   },
   "file_extension": ".py",
   "mimetype": "text/x-python",
   "name": "python",
   "nbconvert_exporter": "python",
   "pygments_lexer": "ipython3",
   "version": "3.11.5"
  }
 },
 "nbformat": 4,
 "nbformat_minor": 2
}
