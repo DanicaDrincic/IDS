{
 "cells": [
  {
   "cell_type": "markdown",
   "id": "30e9ce05",
   "metadata": {},
   "source": [
    "# Laboratory exercise 4\n",
    "\n",
    "In this laboratory exercise you will use the questionnaire and answers given below"
   ]
  },
  {
   "cell_type": "code",
   "execution_count": 17,
   "id": "d6820020",
   "metadata": {},
   "outputs": [],
   "source": [
    "import pandas as pd\n",
    "import numpy as np"
   ]
  },
  {
   "cell_type": "code",
   "execution_count": 18,
   "id": "c53f916c",
   "metadata": {},
   "outputs": [],
   "source": [
    "data = pd.DataFrame({'Q1': [1, 2, 2, 3, 2, 2, 3, 3, 2, 3],\n",
    "                              'Q2': [1, 1, 1, 2, 3, 3, 2, 3, 3, 3],\n",
    "                              'Q3': [1, 1, 2, 1, 2, 3, 3, 3, 2, 3]})"
   ]
  },
  {
   "cell_type": "markdown",
   "id": "ce36a49d",
   "metadata": {},
   "source": [
    "1. Write a function to detrmine the realiability of the questionnaire answers with Cronbach's Alpha."
   ]
  },
  {
   "cell_type": "code",
   "execution_count": 19,
   "id": "506ba2ae",
   "metadata": {},
   "outputs": [
    {
     "name": "stdout",
     "output_type": "stream",
     "text": [
      "   Q1  Q2  Q3\n",
      "0   1   1   1\n",
      "1   2   1   1\n",
      "2   2   1   2\n",
      "3   3   2   1\n",
      "4   2   3   2\n",
      "5   2   3   3\n",
      "6   3   2   3\n",
      "7   3   3   3\n",
      "8   2   3   2\n",
      "9   3   3   3\n"
     ]
    }
   ],
   "source": [
    "print(data)"
   ]
  },
  {
   "cell_type": "code",
   "execution_count": 29,
   "id": "454fec0a",
   "metadata": {},
   "outputs": [
    {
     "name": "stdout",
     "output_type": "stream",
     "text": [
      "The Cronbach's Alpha is 0.77 which is acceptable\n"
     ]
    }
   ],
   "source": [
    "def cronbach_alpha(data):\n",
    "    df_corr = data.corr()\n",
    "    \n",
    "    N = data.shape[1]\n",
    "    \n",
    "    rs = np.array([])\n",
    "    for i, col in enumerate(df_corr.columns):\n",
    "        sum_ = df_corr[col][i+1:].values\n",
    "        rs = np.append(sum_, rs)\n",
    "    mean_r = np.mean(rs)\n",
    "    \n",
    "    cronbach_alpha = (N * mean_r) / (1+(N-1) * mean_r)\n",
    "    return cronbach_alpha\n",
    "\n",
    "cronbach_alpha(data)\n",
    "print(f\"The Cronbach's Alpha is {cronbach_alpha(data):.2f} which is acceptable\")"
   ]
  },
  {
   "cell_type": "markdown",
   "id": "69cb9d0a",
   "metadata": {},
   "source": [
    "2. Explain the differences between in-house data labeling, crowdsourcing and outsourcing. "
   ]
  },
  {
   "cell_type": "markdown",
   "id": "7c9cbe26",
   "metadata": {},
   "source": [
    "The in-house data labeling approach enables the highest quality in data annotation. This type of labeling emphasizes the correct marking of data and often requires consultations with experts in the field. Typically, scientists or individuals affiliated with an organization perform data labeling in this way. However, as the focus is on achieving higher label quality, the time required for the process increases significantly, making the overall process very slow.\n",
    "\n",
    "The crowdsourcing approach involves labeled datasets that mostly consist of trivial data (e.g., images of animals, transportation, etc.) that do not require additional expertise. Thanks to a large number of registered freelancers on various platforms who, for example, receive tasks to label something during registration, this approach is highly prevalent.\n",
    "\n",
    "The outsourcing approach essentially represents a middle ground between the two aforementioned approaches. In this case, the annotation task is carried out by an individual or organization specifically trained for it. The advantage of this approach is that the individual or organization receiving the task is already familiar with the subject of the data to be labeled, and it provides accessibility to projects with limited financial resources."
   ]
  },
  {
   "cell_type": "markdown",
   "id": "ce3d3e91",
   "metadata": {},
   "source": [
    "3. Explain the main differences between annotation for image classification, object detection and image segmentation."
   ]
  },
  {
   "cell_type": "markdown",
   "id": "3eb94fc8",
   "metadata": {},
   "source": [
    "Image classification involves assigning a label to an image, where the number of unique labels in the entire database is equal\n",
    "to the number of classes the model can classify. Within this type of classification, there are binary \n",
    "(consisting of only two labels) and multiclass classification (containing multiple labels).\n",
    "\n",
    "In contrast to image classification, object detection involves identifying objects and their locations. The process of this\n",
    "classification can be outlined as follows:\n",
    "\n",
    "a) Each object is marked with the smallest possible bounding box that surrounds it.\n",
    "b) Each bounding box is assigned a label.\n",
    "c) The assigned label and bounding box are recorded using their coordinates and stored in a JSON file in dictionary format,\n",
    "where the dictionary key is the number or ID of the image.\n",
    "\n",
    "Image segmentation involves separating the image from its background and other objects in that image. As a result, an image of\n",
    "the same size as the original is created, with a label indicating the location of the object. If multiple objects are segmented\n",
    "within one image, each object is labeled on a separate channel, and the sum of all channels represents the reference image.\n"
   ]
  }
 ],
 "metadata": {
  "kernelspec": {
   "display_name": "Python 3 (ipykernel)",
   "language": "python",
   "name": "python3"
  },
  "language_info": {
   "codemirror_mode": {
    "name": "ipython",
    "version": 3
   },
   "file_extension": ".py",
   "mimetype": "text/x-python",
   "name": "python",
   "nbconvert_exporter": "python",
   "pygments_lexer": "ipython3",
   "version": "3.11.5"
  }
 },
 "nbformat": 4,
 "nbformat_minor": 5
}
